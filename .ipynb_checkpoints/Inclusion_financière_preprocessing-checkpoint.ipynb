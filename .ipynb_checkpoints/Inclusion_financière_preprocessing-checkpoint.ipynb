{
 "cells": [
  {
   "cell_type": "markdown",
   "id": "e16713a2",
   "metadata": {},
   "source": [
    "#### Importation des librairies"
   ]
  },
  {
   "cell_type": "code",
   "execution_count": 1,
   "id": "fe0fb2bd",
   "metadata": {},
   "outputs": [],
   "source": [
    "import pandas as pd\n",
    "import numpy as np"
   ]
  },
  {
   "cell_type": "code",
   "execution_count": 2,
   "id": "f35cd883",
   "metadata": {},
   "outputs": [],
   "source": [
    "from sklearn.preprocessing import OrdinalEncoder\n",
    "from sklearn.preprocessing import OneHotEncoder\n",
    "from sklearn.preprocessing import LabelEncoder"
   ]
  },
  {
   "cell_type": "code",
   "execution_count": 3,
   "id": "7313b2da",
   "metadata": {},
   "outputs": [],
   "source": [
    "import warnings\n",
    "warnings.filterwarnings('ignore')"
   ]
  },
  {
   "cell_type": "code",
   "execution_count": 4,
   "id": "6e56d28d",
   "metadata": {},
   "outputs": [],
   "source": [
    "from imblearn.over_sampling import SMOTE\n",
    "import plotly.express as px"
   ]
  },
  {
   "cell_type": "markdown",
   "id": "e5bd398e",
   "metadata": {},
   "source": [
    "#### Importation de la données "
   ]
  },
  {
   "cell_type": "code",
   "execution_count": 5,
   "id": "504d22dd",
   "metadata": {},
   "outputs": [],
   "source": [
    "data = pd.read_csv(\"data/data.csv\")"
   ]
  },
  {
   "cell_type": "code",
   "execution_count": 6,
   "id": "879575f6",
   "metadata": {},
   "outputs": [
    {
     "data": {
      "text/plain": [
       "Self employed                   6437\n",
       "Informally employed             5597\n",
       "Farming and Fishing             5441\n",
       "Remittance Dependent            2527\n",
       "Other Income                    1080\n",
       "Formally employed Private       1055\n",
       "No Income                        627\n",
       "Formally employed Government     387\n",
       "Government Dependent             247\n",
       "Dont Know/Refuse to answer       126\n",
       "Name: job_type, dtype: int64"
      ]
     },
     "execution_count": 6,
     "metadata": {},
     "output_type": "execute_result"
    }
   ],
   "source": [
    "data[\"job_type\"].value_counts()"
   ]
  },
  {
   "cell_type": "markdown",
   "id": "2c4ed1a5",
   "metadata": {},
   "source": [
    "#### Traduction des colonnes "
   ]
  },
  {
   "cell_type": "code",
   "execution_count": 7,
   "id": "246daada",
   "metadata": {},
   "outputs": [],
   "source": [
    "# Je renomme mes colonnes\n",
    "data = data.rename(columns={'country': 'pays',\n",
    "                            'year': 'annee',\n",
    "                            'uniqueid': \"unique_id\",\n",
    "                            'bank_account':'compte_bancaire',\n",
    "                            'location_type': 'type_de_location', \n",
    "                            'cellphone_access': 'acces_au_telephone', \n",
    "                            'household_size': 'taille_du_menage', \n",
    "                            'age_of_respondent': 'age',\n",
    "                            'gender_of_respondent': 'sexe',\n",
    "                            'relationship_with_head':'relation_avec_le_chef_de_famille',\n",
    "                            'marital_status':'etat_civil', \n",
    "                            'education_level':'niveau_education',\n",
    "                            'job_type':'type_de_job', \n",
    "                            })"
   ]
  },
  {
   "cell_type": "code",
   "execution_count": 8,
   "id": "24f3bd45",
   "metadata": {
    "scrolled": false
   },
   "outputs": [
    {
     "data": {
      "text/html": [
       "<div>\n",
       "<style scoped>\n",
       "    .dataframe tbody tr th:only-of-type {\n",
       "        vertical-align: middle;\n",
       "    }\n",
       "\n",
       "    .dataframe tbody tr th {\n",
       "        vertical-align: top;\n",
       "    }\n",
       "\n",
       "    .dataframe thead th {\n",
       "        text-align: right;\n",
       "    }\n",
       "</style>\n",
       "<table border=\"1\" class=\"dataframe\">\n",
       "  <thead>\n",
       "    <tr style=\"text-align: right;\">\n",
       "      <th></th>\n",
       "      <th>pays</th>\n",
       "      <th>annee</th>\n",
       "      <th>unique_id</th>\n",
       "      <th>compte_bancaire</th>\n",
       "      <th>type_de_location</th>\n",
       "      <th>acces_au_telephone</th>\n",
       "      <th>taille_du_menage</th>\n",
       "      <th>age</th>\n",
       "      <th>sexe</th>\n",
       "      <th>relation_avec_le_chef_de_famille</th>\n",
       "      <th>etat_civil</th>\n",
       "      <th>niveau_education</th>\n",
       "      <th>type_de_job</th>\n",
       "    </tr>\n",
       "  </thead>\n",
       "  <tbody>\n",
       "    <tr>\n",
       "      <th>0</th>\n",
       "      <td>Kenya</td>\n",
       "      <td>2018</td>\n",
       "      <td>uniqueid_1</td>\n",
       "      <td>Yes</td>\n",
       "      <td>Rural</td>\n",
       "      <td>Yes</td>\n",
       "      <td>3</td>\n",
       "      <td>24</td>\n",
       "      <td>Female</td>\n",
       "      <td>Spouse</td>\n",
       "      <td>Married/Living together</td>\n",
       "      <td>Secondary education</td>\n",
       "      <td>Self employed</td>\n",
       "    </tr>\n",
       "    <tr>\n",
       "      <th>1</th>\n",
       "      <td>Kenya</td>\n",
       "      <td>2018</td>\n",
       "      <td>uniqueid_2</td>\n",
       "      <td>No</td>\n",
       "      <td>Rural</td>\n",
       "      <td>No</td>\n",
       "      <td>5</td>\n",
       "      <td>70</td>\n",
       "      <td>Female</td>\n",
       "      <td>Head of Household</td>\n",
       "      <td>Widowed</td>\n",
       "      <td>No formal education</td>\n",
       "      <td>Government Dependent</td>\n",
       "    </tr>\n",
       "    <tr>\n",
       "      <th>2</th>\n",
       "      <td>Kenya</td>\n",
       "      <td>2018</td>\n",
       "      <td>uniqueid_3</td>\n",
       "      <td>Yes</td>\n",
       "      <td>Urban</td>\n",
       "      <td>Yes</td>\n",
       "      <td>5</td>\n",
       "      <td>26</td>\n",
       "      <td>Male</td>\n",
       "      <td>Other relative</td>\n",
       "      <td>Single/Never Married</td>\n",
       "      <td>Vocational/Specialised training</td>\n",
       "      <td>Self employed</td>\n",
       "    </tr>\n",
       "    <tr>\n",
       "      <th>3</th>\n",
       "      <td>Kenya</td>\n",
       "      <td>2018</td>\n",
       "      <td>uniqueid_4</td>\n",
       "      <td>No</td>\n",
       "      <td>Rural</td>\n",
       "      <td>Yes</td>\n",
       "      <td>5</td>\n",
       "      <td>34</td>\n",
       "      <td>Female</td>\n",
       "      <td>Head of Household</td>\n",
       "      <td>Married/Living together</td>\n",
       "      <td>Primary education</td>\n",
       "      <td>Formally employed Private</td>\n",
       "    </tr>\n",
       "    <tr>\n",
       "      <th>4</th>\n",
       "      <td>Kenya</td>\n",
       "      <td>2018</td>\n",
       "      <td>uniqueid_5</td>\n",
       "      <td>No</td>\n",
       "      <td>Urban</td>\n",
       "      <td>No</td>\n",
       "      <td>8</td>\n",
       "      <td>26</td>\n",
       "      <td>Male</td>\n",
       "      <td>Child</td>\n",
       "      <td>Single/Never Married</td>\n",
       "      <td>Primary education</td>\n",
       "      <td>Informally employed</td>\n",
       "    </tr>\n",
       "  </tbody>\n",
       "</table>\n",
       "</div>"
      ],
      "text/plain": [
       "    pays  annee   unique_id compte_bancaire type_de_location  \\\n",
       "0  Kenya   2018  uniqueid_1             Yes            Rural   \n",
       "1  Kenya   2018  uniqueid_2              No            Rural   \n",
       "2  Kenya   2018  uniqueid_3             Yes            Urban   \n",
       "3  Kenya   2018  uniqueid_4              No            Rural   \n",
       "4  Kenya   2018  uniqueid_5              No            Urban   \n",
       "\n",
       "  acces_au_telephone  taille_du_menage  age    sexe  \\\n",
       "0                Yes                 3   24  Female   \n",
       "1                 No                 5   70  Female   \n",
       "2                Yes                 5   26    Male   \n",
       "3                Yes                 5   34  Female   \n",
       "4                 No                 8   26    Male   \n",
       "\n",
       "  relation_avec_le_chef_de_famille               etat_civil  \\\n",
       "0                           Spouse  Married/Living together   \n",
       "1                Head of Household                  Widowed   \n",
       "2                   Other relative     Single/Never Married   \n",
       "3                Head of Household  Married/Living together   \n",
       "4                            Child     Single/Never Married   \n",
       "\n",
       "                  niveau_education                type_de_job  \n",
       "0              Secondary education              Self employed  \n",
       "1              No formal education       Government Dependent  \n",
       "2  Vocational/Specialised training              Self employed  \n",
       "3                Primary education  Formally employed Private  \n",
       "4                Primary education        Informally employed  "
      ]
     },
     "execution_count": 8,
     "metadata": {},
     "output_type": "execute_result"
    }
   ],
   "source": [
    "data.head()"
   ]
  },
  {
   "cell_type": "markdown",
   "id": "0d54ec54",
   "metadata": {},
   "source": [
    "#### Création d'une colonne catégorielle \"Group Age\""
   ]
  },
  {
   "cell_type": "code",
   "execution_count": 9,
   "id": "2505a1c0",
   "metadata": {},
   "outputs": [],
   "source": [
    "data['Group_Age'] = pd.cut(\n",
    "    data['age'],\n",
    "    bins = [10, 20, 30, 40, 50, 60, 70, 80, np.inf], \n",
    "    labels = [ '[10-20]','[20-30]','[30-40]','[40-50]','[50-60]','[60-70]','[70-80]','[80+]']\n",
    ")"
   ]
  },
  {
   "cell_type": "markdown",
   "id": "2cab9816",
   "metadata": {},
   "source": [
    "#### Classification des types de colonnes dans des listes"
   ]
  },
  {
   "cell_type": "code",
   "execution_count": 10,
   "id": "44614d9b",
   "metadata": {},
   "outputs": [],
   "source": [
    "# Classement des colonnes dans des listes.\n",
    "drop        = [\"unique_id\", \"sexe\"]\n",
    "passthrough = [\"taille_du_menage\", \"age\", \"niveau_education\"]\n",
    "cat         = [\"pays\",\"Group_Age\", \"etat_civil\", \"type_de_job\", \"relation_avec_le_chef_de_famille\", \"annee\"]\n",
    "text        = ['type_de_location','acces_au_telephone', 'compte_bancaire']"
   ]
  },
  {
   "cell_type": "code",
   "execution_count": 11,
   "id": "840d0728",
   "metadata": {},
   "outputs": [],
   "source": [
    "# Liste contenant toutes les colonnes\n",
    "all_cols = [\n",
    "    drop,\n",
    "    passthrough,\n",
    "    text,\n",
    "    cat,\n",
    "]"
   ]
  },
  {
   "cell_type": "markdown",
   "id": "72d4b8dd",
   "metadata": {},
   "source": [
    "#### Vérification de ne pas avoir négligé de colonnes"
   ]
  },
  {
   "cell_type": "code",
   "execution_count": 12,
   "id": "ca4d839f",
   "metadata": {},
   "outputs": [],
   "source": [
    "# Vérification (fautes ortographes, oublie de colonnes etc...)\n",
    "def check_work(df, liste_all_listes):\n",
    "    set_nos_cols = set()\n",
    "    for liste in liste_all_listes:\n",
    "        for col in liste:\n",
    "            if col in set_nos_cols:\n",
    "                print(f\"Warning : La colonne '{col}' est déja présente !\")\n",
    "            set_nos_cols.add(col)\n",
    "    set_colonnes_originales = set(df.columns)\n",
    "    mal_écrites = set_nos_cols - set_colonnes_originales\n",
    "    col_manquantes = set_colonnes_originales - set_nos_cols\n",
    "    print(f\"Des colonnes sont manquantes : {col_manquantes}\")\n",
    "    print(f\"Des colonnes sont mal écrites : {mal_écrites}\")"
   ]
  },
  {
   "cell_type": "code",
   "execution_count": 13,
   "id": "6fe21e58",
   "metadata": {
    "scrolled": false
   },
   "outputs": [
    {
     "name": "stdout",
     "output_type": "stream",
     "text": [
      "Des colonnes sont manquantes : set()\n",
      "Des colonnes sont mal écrites : set()\n"
     ]
    }
   ],
   "source": [
    "check_work(df=data, liste_all_listes=all_cols)"
   ]
  },
  {
   "cell_type": "markdown",
   "id": "755d633c",
   "metadata": {},
   "source": [
    "#### Encodage des colonnes \"type de location\" & \"accès au téléphone\" & \"compte bancaire\" (LabelEncoder)."
   ]
  },
  {
   "cell_type": "code",
   "execution_count": 14,
   "id": "50185f1e",
   "metadata": {},
   "outputs": [],
   "source": [
    "def ordinal_encode(data, columns) : \n",
    "    encoder=OrdinalEncoder()\n",
    "    for i, col in enumerate(columns) :\n",
    "        data[col]=encoder.fit_transform(data[[col]])\n",
    "    return data"
   ]
  },
  {
   "cell_type": "markdown",
   "id": "a6cb4835",
   "metadata": {},
   "source": [
    "#### Encodage des colonnes catégorielles (One Hot Encoder)."
   ]
  },
  {
   "cell_type": "code",
   "execution_count": 15,
   "id": "57b4e2c0",
   "metadata": {},
   "outputs": [],
   "source": [
    "def one_hot_encode(data, columns):\n",
    "    one_hot_encoder = OneHotEncoder(handle_unknown=\"ignore\", sparse=False)\n",
    "    df_encoder = pd.DataFrame(one_hot_encoder.fit_transform(data), columns=one_hot_encoder.get_feature_names_out(input_features=data.columns))\n",
    "    return df_encoder"
   ]
  },
  {
   "cell_type": "markdown",
   "id": "1fba8dba",
   "metadata": {},
   "source": [
    "#### Traitement de la colonne \"education_level\""
   ]
  },
  {
   "cell_type": "code",
   "execution_count": 16,
   "id": "da5c84ad",
   "metadata": {},
   "outputs": [],
   "source": [
    "def education_level(X_transform):\n",
    "    encoder=OrdinalEncoder()\n",
    "    order = ['Other/Dont know/RTA','No formal education','Primary education','Secondary education','Vocational/Specialised training','Tertiary education']\n",
    "    encoder = OrdinalEncoder(categories=[order])\n",
    "    X_transform['education_level_encoded'] = encoder.fit_transform(X_transform[['niveau_education']])\n",
    "    X_transform = X_transform.drop('niveau_education', axis=1)\n",
    "    return X_transform"
   ]
  },
  {
   "cell_type": "markdown",
   "id": "37848278",
   "metadata": {},
   "source": [
    "#### Preprocessing"
   ]
  },
  {
   "cell_type": "code",
   "execution_count": 17,
   "id": "0234d77a",
   "metadata": {},
   "outputs": [],
   "source": [
    "def preprocessing(data, columns_ordinal:list, columns_onehot:list, passthrough:list):\n",
    "    \n",
    "    # Création des DataFrames avec les colonnes à encoder     \n",
    "    df_ordinal = data[[ i for i in columns_ordinal ]]\n",
    "    df_onehot  = data[[ i for i in columns_onehot  ]]\n",
    "    \n",
    "    # Ordinal Encoding des colonnes.\n",
    "    df_ordinal_encoded = ordinal_encode(data=df_ordinal, columns=columns_ordinal)\n",
    "    \n",
    "    # One Hot Encoding des colonnes.\n",
    "    df_one_hot_encoded = one_hot_encode(data=df_onehot, columns=columns_onehot)\n",
    "    \n",
    "    # Concaténation des DataFrames contenant les colonnes encodées et les autres colonnes (passthrough).     \n",
    "    data_transform = pd.concat([df_ordinal_encoded, df_one_hot_encoded, data[passthrough]], axis=1) \n",
    "    \n",
    "    # Traitement de la colonne Education level.   \n",
    "    data_transform = education_level(data_transform)\n",
    "    \n",
    "    # On retourne les données.     \n",
    "    return data_transform"
   ]
  },
  {
   "cell_type": "markdown",
   "id": "4d60a3cf",
   "metadata": {},
   "source": [
    "#### Exportation des données"
   ]
  },
  {
   "cell_type": "code",
   "execution_count": 18,
   "id": "3df2f344",
   "metadata": {},
   "outputs": [],
   "source": [
    "clean_data = preprocessing(\n",
    "    \n",
    "    # features     \n",
    "    data=data, \n",
    "    \n",
    "    # columns to encoding with OrdinalEncoder     \n",
    "    columns_ordinal=text, \n",
    "    \n",
    "    # columns to encoding with OneHotEncoder     \n",
    "    columns_onehot=cat, \n",
    "    \n",
    "    # Others columns     \n",
    "    passthrough=passthrough\n",
    ")"
   ]
  },
  {
   "cell_type": "markdown",
   "id": "d4c77819",
   "metadata": {},
   "source": [
    "#### Equilibrage des données"
   ]
  },
  {
   "cell_type": "code",
   "execution_count": 19,
   "id": "23232860",
   "metadata": {},
   "outputs": [],
   "source": [
    "def balanced_data(clean_data):\n",
    "    X = clean_data.drop(\"compte_bancaire\", axis=\"columns\")\n",
    "    Y = clean_data[\"compte_bancaire\"]\n",
    "    smote = SMOTE(random_state=42, sampling_strategy=\"auto\")\n",
    "    X_resampled, y_resampled = smote.fit_resample(X, Y)\n",
    "    balanced_data = pd.concat([pd.DataFrame(X_resampled, columns=X.columns), pd.Series(y_resampled, name=\"compte_bancaire\")], axis=1)\n",
    "    balanced_data[\"education_level_encoded\"] = balanced_data[\"education_level_encoded\"].round()\n",
    "    return balanced_data"
   ]
  },
  {
   "cell_type": "code",
   "execution_count": 20,
   "id": "00a75efb",
   "metadata": {},
   "outputs": [],
   "source": [
    "balanced_data = balanced_data(clean_data)"
   ]
  },
  {
   "cell_type": "markdown",
   "id": "17dc59a0",
   "metadata": {},
   "source": [
    "#### Export des données"
   ]
  },
  {
   "cell_type": "code",
   "execution_count": 22,
   "id": "7d8bb508",
   "metadata": {},
   "outputs": [],
   "source": [
    "balanced_data.to_csv('data/preprocess_data.csv', index=False)"
   ]
  }
 ],
 "metadata": {
  "kernelspec": {
   "display_name": "Python 3 (ipykernel)",
   "language": "python",
   "name": "python3"
  },
  "language_info": {
   "codemirror_mode": {
    "name": "ipython",
    "version": 3
   },
   "file_extension": ".py",
   "mimetype": "text/x-python",
   "name": "python",
   "nbconvert_exporter": "python",
   "pygments_lexer": "ipython3",
   "version": "3.8.12"
  },
  "toc": {
   "base_numbering": 1,
   "nav_menu": {},
   "number_sections": true,
   "sideBar": true,
   "skip_h1_title": false,
   "title_cell": "Table of Contents",
   "title_sidebar": "Contents",
   "toc_cell": false,
   "toc_position": {},
   "toc_section_display": true,
   "toc_window_display": false
  }
 },
 "nbformat": 4,
 "nbformat_minor": 5
}
