{
 "cells": [
  {
   "cell_type": "code",
   "execution_count": 32,
   "id": "73b5daa8",
   "metadata": {},
   "outputs": [],
   "source": [
    "import pandas as pd"
   ]
  },
  {
   "cell_type": "code",
   "execution_count": 33,
   "id": "07c0ba64",
   "metadata": {},
   "outputs": [],
   "source": [
    "import pandas as pd\n",
    "import numpy as np\n",
    "from sklearn.linear_model import LogisticRegression\n",
    "from sklearn.model_selection import train_test_split\n",
    "from sklearn.metrics import accuracy_score\n",
    "import warnings\n",
    "warnings.filterwarnings(\"ignore\", category=Warning)\n",
    "from sklearn.model_selection import cross_val_score\n",
    "from sklearn.model_selection import cross_validate\n",
    "from sklearn.metrics import classification_report, accuracy_score\n",
    "from sklearn.tree import DecisionTreeClassifier\n",
    "from sklearn.dummy import DummyClassifier\n",
    "from sklearn.naive_bayes import GaussianNB\n",
    "from sklearn.metrics import classification_report"
   ]
  },
  {
   "cell_type": "code",
   "execution_count": 34,
   "id": "a2202328",
   "metadata": {},
   "outputs": [],
   "source": [
    "import pickle"
   ]
  },
  {
   "cell_type": "code",
   "execution_count": 26,
   "id": "39d14310",
   "metadata": {},
   "outputs": [],
   "source": [
    "preprocess_data = pd.read_csv(\"data/preprocess_data.csv\")"
   ]
  },
  {
   "cell_type": "code",
   "execution_count": 27,
   "id": "3773324a",
   "metadata": {},
   "outputs": [],
   "source": [
    "def resultat_compare(data, model_algo:list):\n",
    "    data_dict = []\n",
    " \n",
    "    for i in model_algo:\n",
    "        if i == DecisionTreeClassifier():\n",
    "            data['compte_bancaire'] = label_encoder.fit_transform(data['compte bancaire'])\n",
    "        accuracy = model(data, i)\n",
    "        dictionnaire = {\n",
    "            \"Modèle\": i,\n",
    "            \"Précision\": accuracy,\n",
    "        }\n",
    "        data_dict.append(dictionnaire) \n",
    "    data_dict = pd.DataFrame(data_dict)\n",
    "    return data_dict"
   ]
  },
  {
   "cell_type": "code",
   "execution_count": 28,
   "id": "ed415749",
   "metadata": {},
   "outputs": [],
   "source": [
    "def model(data, model_algo):\n",
    "    \n",
    "    # Séparation des features de la Target     \n",
    "    X = data.drop(\"compte_bancaire\", axis=\"columns\")\n",
    "    Y = data[\"compte_bancaire\"]\n",
    "    \n",
    "    # Division des données en ensemble d'entraînement et de test\n",
    "    X_train, X_test, y_train, y_test = train_test_split(X, Y, test_size=0.2, random_state=0)\n",
    "    \n",
    "    # Entraînement du modèle \n",
    "    model = model_algo\n",
    "    model.fit(X_train, y_train)\n",
    "    \n",
    "    # Prédiction sur l'ensemble de test\n",
    "    y_pred = model.predict(X_test)\n",
    "    \n",
    "    # Évaluation de la performance du modèle\n",
    "    accuracy = accuracy_score(y_test, y_pred)\n",
    "    \n",
    "    # print(\"Précision du modèle :\", accuracy)\n",
    "    print(f\"===================   {model_algo}   ====================\")\n",
    "    print()\n",
    "    print(classification_report(y_test, y_pred))\n",
    "    return accuracy"
   ]
  },
  {
   "cell_type": "code",
   "execution_count": 29,
   "id": "4580d224",
   "metadata": {},
   "outputs": [],
   "source": [
    "Algo = [LogisticRegression(), DecisionTreeClassifier(), DummyClassifier(), GaussianNB()]"
   ]
  },
  {
   "cell_type": "code",
   "execution_count": 30,
   "id": "6d7b0442",
   "metadata": {},
   "outputs": [
    {
     "name": "stdout",
     "output_type": "stream",
     "text": [
      "===================   LogisticRegression()   ====================\n",
      "\n",
      "              precision    recall  f1-score   support\n",
      "\n",
      "         0.0       0.77      0.79      0.78      4013\n",
      "         1.0       0.79      0.77      0.78      4072\n",
      "\n",
      "    accuracy                           0.78      8085\n",
      "   macro avg       0.78      0.78      0.78      8085\n",
      "weighted avg       0.78      0.78      0.78      8085\n",
      "\n",
      "===================   DecisionTreeClassifier()   ====================\n",
      "\n",
      "              precision    recall  f1-score   support\n",
      "\n",
      "         0.0       0.89      0.89      0.89      4013\n",
      "         1.0       0.89      0.89      0.89      4072\n",
      "\n",
      "    accuracy                           0.89      8085\n",
      "   macro avg       0.89      0.89      0.89      8085\n",
      "weighted avg       0.89      0.89      0.89      8085\n",
      "\n",
      "===================   DummyClassifier()   ====================\n",
      "\n",
      "              precision    recall  f1-score   support\n",
      "\n",
      "         0.0       0.50      1.00      0.66      4013\n",
      "         1.0       0.00      0.00      0.00      4072\n",
      "\n",
      "    accuracy                           0.50      8085\n",
      "   macro avg       0.25      0.50      0.33      8085\n",
      "weighted avg       0.25      0.50      0.33      8085\n",
      "\n",
      "===================   GaussianNB()   ====================\n",
      "\n",
      "              precision    recall  f1-score   support\n",
      "\n",
      "         0.0       0.80      0.57      0.67      4013\n",
      "         1.0       0.67      0.86      0.75      4072\n",
      "\n",
      "    accuracy                           0.72      8085\n",
      "   macro avg       0.74      0.72      0.71      8085\n",
      "weighted avg       0.74      0.72      0.71      8085\n",
      "\n"
     ]
    },
    {
     "data": {
      "text/html": [
       "<div>\n",
       "<style scoped>\n",
       "    .dataframe tbody tr th:only-of-type {\n",
       "        vertical-align: middle;\n",
       "    }\n",
       "\n",
       "    .dataframe tbody tr th {\n",
       "        vertical-align: top;\n",
       "    }\n",
       "\n",
       "    .dataframe thead th {\n",
       "        text-align: right;\n",
       "    }\n",
       "</style>\n",
       "<table border=\"1\" class=\"dataframe\">\n",
       "  <thead>\n",
       "    <tr style=\"text-align: right;\">\n",
       "      <th></th>\n",
       "      <th>Modèle</th>\n",
       "      <th>Précision</th>\n",
       "    </tr>\n",
       "  </thead>\n",
       "  <tbody>\n",
       "    <tr>\n",
       "      <th>0</th>\n",
       "      <td>LogisticRegression()</td>\n",
       "      <td>0.780581</td>\n",
       "    </tr>\n",
       "    <tr>\n",
       "      <th>1</th>\n",
       "      <td>DecisionTreeClassifier()</td>\n",
       "      <td>0.891404</td>\n",
       "    </tr>\n",
       "    <tr>\n",
       "      <th>2</th>\n",
       "      <td>DummyClassifier()</td>\n",
       "      <td>0.496351</td>\n",
       "    </tr>\n",
       "    <tr>\n",
       "      <th>3</th>\n",
       "      <td>GaussianNB()</td>\n",
       "      <td>0.717007</td>\n",
       "    </tr>\n",
       "  </tbody>\n",
       "</table>\n",
       "</div>"
      ],
      "text/plain": [
       "                     Modèle  Précision\n",
       "0      LogisticRegression()   0.780581\n",
       "1  DecisionTreeClassifier()   0.891404\n",
       "2         DummyClassifier()   0.496351\n",
       "3              GaussianNB()   0.717007"
      ]
     },
     "execution_count": 30,
     "metadata": {},
     "output_type": "execute_result"
    }
   ],
   "source": [
    "resultat_compare(data=preprocess_data, model_algo=Algo)"
   ]
  }
 ],
 "metadata": {
  "kernelspec": {
   "display_name": "Python 3 (ipykernel)",
   "language": "python",
   "name": "python3"
  },
  "language_info": {
   "codemirror_mode": {
    "name": "ipython",
    "version": 3
   },
   "file_extension": ".py",
   "mimetype": "text/x-python",
   "name": "python",
   "nbconvert_exporter": "python",
   "pygments_lexer": "ipython3",
   "version": "3.8.12"
  },
  "toc": {
   "base_numbering": 1,
   "nav_menu": {},
   "number_sections": true,
   "sideBar": true,
   "skip_h1_title": false,
   "title_cell": "Table of Contents",
   "title_sidebar": "Contents",
   "toc_cell": false,
   "toc_position": {},
   "toc_section_display": true,
   "toc_window_display": false
  }
 },
 "nbformat": 4,
 "nbformat_minor": 5
}
